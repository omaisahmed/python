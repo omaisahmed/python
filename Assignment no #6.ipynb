{
 "cells": [
  {
   "cell_type": "code",
   "execution_count": 2,
   "metadata": {},
   "outputs": [],
   "source": [
    "# q no 1\n",
    "\n",
    "#    OBJECT ORIENTED PROGRAMMING (OOPS)\n",
    "#    The concept of OOP in Python focuses on creating reusable code. \n",
    "#  This concept is also known as DRY (Don't Repeat Yourself). A process \n",
    "#   of using details from a new class without modifying existing class.\n",
    "#    Hiding the private details of a class from other objects.\n"
   ]
  },
  {
   "cell_type": "code",
   "execution_count": 4,
   "metadata": {},
   "outputs": [],
   "source": [
    "# q no 2 \n",
    "\n",
    "#   BENEFITS OF OOPS:\n",
    "#   It provides a clear modular structure for programs which makes it good for defining abstract datatypes \n",
    "#   in which implementation details are hidden.\n",
    "#   Objects can also be reused within an across applications. ...\n",
    "#   It makes software easier to maintain. ...\n",
    "#   Reuse also enables faster development.\n"
   ]
  },
  {
   "cell_type": "code",
   "execution_count": null,
   "metadata": {},
   "outputs": [],
   "source": [
    "# q no 3\n",
    "\n",
    "#   DIFFERENCE BETWEEN FUNCTION & METHOD :\n",
    "#   Functions are called independently.functions are defined in structural language and \n",
    "#   methods are defined in object oriented languages. The difference between both is given below .\n",
    "#   Function are self contained program they have return some values and \n",
    "#   the functions are defined in structured languages like Pascal,C."
   ]
  },
  {
   "cell_type": "code",
   "execution_count": null,
   "metadata": {},
   "outputs": [],
   "source": [
    "# q no 4\n",
    "\n",
    "#  CLASS:\n",
    "#  In object-oriented programming, a class is a blueprint for creating objects (a particular data structure), \n",
    "#  providing initial values for state (member variables or attributes), and implementations of \n",
    "#  behavior (member functions or methods). \n",
    "#  The user-defined objects are created using the class keyword.\n",
    "\n",
    "#  OBJECT:\n",
    "#  In object-oriented programming (OOP), objects are the things you \n",
    "#  think about first in designing a program and they are also the units of code that are eventually derived \n",
    "#  from the process. ... Each object is an instance of a particular class or subclass with the class's own \n",
    "#  methods or procedures and data variables.\n",
    "#  ATTRIBUTE:\n",
    "#  In Object-oriented programming(OOP), classes and objects have attributes.\n",
    "#  Attributes are data stored inside a class or instance and represent the state or quality of \n",
    "#  the class or instance. ... One can think of attributes as noun or adjective, while methods are the verb of the class.\n",
    "\n",
    "#  BEHAVIOUR:\n",
    "#  Behavior. A class's behavior determines how an instance of that class operates; \n",
    "#  for example, \n",
    "#  how it will \"react\" if asked to do something by another class or object or if its internal state\n",
    "#  changes. Behavior is the only way objects can do anything to themselves or have anything done to them."
   ]
  }
 ],
 "metadata": {
  "kernelspec": {
   "display_name": "Python 3",
   "language": "python",
   "name": "python3"
  },
  "language_info": {
   "codemirror_mode": {
    "name": "ipython",
    "version": 3
   },
   "file_extension": ".py",
   "mimetype": "text/x-python",
   "name": "python",
   "nbconvert_exporter": "python",
   "pygments_lexer": "ipython3",
   "version": "3.7.4"
  }
 },
 "nbformat": 4,
 "nbformat_minor": 2
}
