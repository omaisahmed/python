{
 "cells": [
  {
   "cell_type": "code",
   "execution_count": 1,
   "metadata": {
    "scrolled": true
   },
   "outputs": [
    {
     "name": "stdout",
     "output_type": "stream",
     "text": [
      "first_name : Abdul\n",
      "last_name : Qadeer\n",
      "age : 20\n",
      "city : Karachi\n",
      "\n",
      " add qualification \n",
      "\n",
      "first_name : Abdul\n",
      "last_name : Qadeer\n",
      "age : 20\n",
      "city : Karachi\n",
      "qualification : Graduation\n",
      "\n",
      " update qualification \n",
      "\n",
      "first_name : Abdul\n",
      "last_name : Qadeer\n",
      "age : 20\n",
      "city : Karachi\n",
      "qualification : high academic\n"
     ]
    }
   ],
   "source": [
    "#q 1\n",
    "person_dict={\"first_name\":\"Abdul\",\"last_name\":\"Qadeer\",\"age\":\"20\",\"city\":\"Karachi\"}\n",
    "for key, value in person_dict.items():\n",
    "    print(key+\" : \"+value)\n",
    "print(\"\\n add qualification \\n\")\n",
    "person_dict[\"qualification\"]=\"Graduation\"\n",
    "for key, value in person_dict.items():\n",
    "    print(key+\" : \"+value)\n",
    "print(\"\\n update qualification \\n\")\n",
    "person_dict[\"qualification\"]=\"high academic\"\n",
    "for key, value in person_dict.items():\n",
    "    print(key+\" : \"+value)"
   ]
  },
  {
   "cell_type": "code",
   "execution_count": 2,
   "metadata": {},
   "outputs": [
    {
     "name": "stdout",
     "output_type": "stream",
     "text": [
      "\n",
      "karachi\n",
      "\n",
      "country : pakistan\n",
      "population : 15741000\n",
      "fact : Karachi is vital to Pakistan's economy, contributing 42 per cent of GDP , 70 per cent of income tax revenue and 62 per cent of sales tax revenue\n",
      "\n",
      "lahore\n",
      "\n",
      "country : pakistan\n",
      "population : 12188000\n",
      "fact : Lahore is the capital city of the Pakistani province of Punjab. It is the second largest and most populous city in Pakistan\n",
      "\n",
      "islamabad\n",
      "\n",
      "country : pakistan\n",
      "population : 1095064\n",
      "fact : \n"
     ]
    }
   ],
   "source": [
    "#q 2\n",
    "cities={\n",
    "    \n",
    "    \"karachi\":{\n",
    "        \"country\":\"pakistan\",\n",
    "        \"population\":15741000,\n",
    "        \"fact\":\"Karachi is vital to Pakistan's economy, contributing 42 per cent of GDP , 70 per cent of income tax revenue and 62 per cent of sales tax revenue\"\n",
    "    },\n",
    "    \"lahore\":{\n",
    "        \"country\":\"pakistan\",\n",
    "        \"population\":12188000,\n",
    "        \"fact\":\"Lahore is the capital city of the Pakistani province of Punjab. It is the second largest and most populous city in Pakistan\"\n",
    "    },\n",
    "    \"islamabad\":{\n",
    "        \"country\":\"pakistan\",\n",
    "        \"population\":1095064,\n",
    "        \"fact\":\"\"\n",
    "    }\n",
    "}\n",
    "for citykey,cityinfo in cities.items():\n",
    "    print(\"\\n\"+citykey+\"\\n\")\n",
    "    for city in cityinfo:\n",
    "        print(city+\" : \"+str(cityinfo[city]))"
   ]
  },
  {
   "cell_type": "code",
   "execution_count": 3,
   "metadata": {},
   "outputs": [
    {
     "name": "stdout",
     "output_type": "stream",
     "text": [
      "Enter age : 22\n",
      "Ticket is $15\n",
      "Are you want to Continue tickets press 'y' OR if you want to terminate press 'n': y\n",
      "Enter age : 12\n",
      "Ticket is $10\n",
      "Are you want to Continue tickets press 'y' OR if you want to terminate press 'n': n\n"
     ]
    }
   ],
   "source": [
    "#q 3\n",
    "flag='y'\n",
    "while flag!='n':\n",
    "    age=int(input(\"Enter age : \"))\n",
    "    if age>12:\n",
    "        print(\"Ticket is $15\")\n",
    "    elif age>=3:\n",
    "        print(\"Ticket is $10\")\n",
    "    else:\n",
    "        print(\"Ticket is free\")\n",
    "    flag=input(\"Are you want to Continue tickets press 'y' OR if you want to terminate press 'n': \")"
   ]
  },
  {
   "cell_type": "code",
   "execution_count": 5,
   "metadata": {},
   "outputs": [
    {
     "name": "stdout",
     "output_type": "stream",
     "text": [
      "The Prophet by Khalil Gibran\n"
     ]
    }
   ],
   "source": [
    "#q 4\n",
    "def favorite_book(title):\n",
    "    print(title)\n",
    "book_title=\"The Prophet by Khalil Gibran\"\n",
    "if(len(book_title)!=0):\n",
    "    favorite_book(book_title)\n",
    "else:\n",
    "    print(\"Please populate the book title\")"
   ]
  },
  {
   "cell_type": "code",
   "execution_count": 6,
   "metadata": {},
   "outputs": [
    {
     "name": "stdout",
     "output_type": "stream",
     "text": [
      "Enter the Guess Number: 6\n",
      "You Guess Lower Number\n",
      "Computer's Guess Number:  22\n",
      "Enter the Guess Number: 4\n",
      "You Guess Lower Number\n",
      "Computer's Guess Number:  14\n",
      "Enter the Guess Number: 9\n",
      "You Guess Lower Number\n",
      "Computer's Guess Number:  12\n"
     ]
    }
   ],
   "source": [
    "#q 5\n",
    "import random\n",
    "count = 0\n",
    "while count < 3:\n",
    "    guess = int(input(\"Enter the Guess Number: \"))\n",
    "    count += 1\n",
    "    rand = random.randint(1,30)\n",
    "    if guess == rand:\n",
    "        print(\"You Guess Correct Number\")\n",
    "    elif guess > rand:\n",
    "        print(\"You Guess Higher Number\")\n",
    "    elif guess < rand:\n",
    "        print(\"You Guess Lower Number\")\n",
    "    print(\"Computer's Guess Number: \",rand)"
   ]
  },
  {
   "cell_type": "code",
   "execution_count": null,
   "metadata": {},
   "outputs": [],
   "source": []
  }
 ],
 "metadata": {
  "kernelspec": {
   "display_name": "Python 3",
   "language": "python",
   "name": "python3"
  },
  "language_info": {
   "codemirror_mode": {
    "name": "ipython",
    "version": 3
   },
   "file_extension": ".py",
   "mimetype": "text/x-python",
   "name": "python",
   "nbconvert_exporter": "python",
   "pygments_lexer": "ipython3",
   "version": "3.7.4"
  }
 },
 "nbformat": 4,
 "nbformat_minor": 2
}
